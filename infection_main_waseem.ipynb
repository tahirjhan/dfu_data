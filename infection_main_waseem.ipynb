{
 "cells": [
  {
   "cell_type": "code",
   "execution_count": null,
   "metadata": {},
   "outputs": [],
   "source": [
    "import os, time, numpy as np\n",
    "from PIL import Image\n",
    "print(os.listdir())"
   ]
  },
  {
   "cell_type": "code",
   "execution_count": null,
   "metadata": {},
   "outputs": [],
   "source": [
    "cfolder = os.getcwd()\n",
    "# cfolder : insert the code folder path here\n",
    "'''\n",
    "if not os.path.exists(os.path.join(cfolder,'infections')):\n",
    "    os.mkdir('infections')\n",
    "dfolder = os.path.join(cfolder,'infections')\n",
    "if not os.path.exists(os.path.join(dfolder,'train')):\n",
    "    os.makedirs(os.path.join(dfolder,'train'))\n",
    "trainfolder = os.path.join(dfolder,'train')    \n",
    "if not os.path.exists(os.path.join(dfolder,'test')):\n",
    "    os.makedirs(os.path.join(dfolder,'test'))\n",
    "testfolder = os.path.join(dfolder,'test') \n",
    "\n",
    "if not os.path.exists(os.path.join(trainfolder,'negative')):\n",
    "    os.makedirs(os.path.join(trainfolder,'negative'))  \n",
    "if not os.path.exists(os.path.join(trainfolder,'positive')):\n",
    "    os.makedirs(os.path.join(trainfolder,'positive'))  \n",
    "    \n",
    "if not os.path.exists(os.path.join(testfolder,'negative')):\n",
    "    os.makedirs(os.path.join(testfolder,'negative'))  \n",
    "if not os.path.exists(os.path.join(testfolder,'positive')):\n",
    "    os.makedirs(os.path.join(testfolder,'positive')) \n",
    "'''"
   ]
  },
  {
   "cell_type": "code",
   "execution_count": null,
   "metadata": {},
   "outputs": [],
   "source": [
    "'''\n",
    "pfolder = os.path.join(cfolder,'Aug-Positive')\n",
    "pfiles = os.listdir(pfolder)\n",
    "\n",
    "nfolder = os.path.join(cfolder,'Aug-Negative')\n",
    "nfiles = os.listdir(nfolder)\n",
    "\n",
    "num_pfiles = len(pfiles)\n",
    "num_nfiles = len(nfiles)\n",
    "\n",
    "ptrain = round(num_pfiles*.8)\n",
    "ntrain = round(num_nfiles*.8)\n",
    "\n",
    "prand = np.random.permutation(num_pfiles)\n",
    "nrand = np.random.permutation(num_nfiles)\n",
    "for i in range(len(pfiles)):\n",
    "    im_name = os.path.join(pfolder,pfiles[prand[i]])\n",
    "    im = Image.open(im_name)\n",
    "    if i < ptrain:\n",
    "        save_name = os.path.join(trainfolder,'positive',pfiles[prand[i]])\n",
    "    else:\n",
    "        save_name = os.path.join(testfolder,'positive',pfiles[prand[i]])\n",
    "        \n",
    "    im.save(save_name)\n",
    "    print('image: '+str(i)+'/'+str(len(nfiles)))\n",
    "    \n",
    "for i in range(len(nfiles)):\n",
    "    im_name = os.path.join(nfolder,nfiles[prand[i]])\n",
    "    im = Image.open(im_name)\n",
    "    if i < ntrain:\n",
    "        save_name = os.path.join(trainfolder,'negative',nfiles[nrand[i]])\n",
    "    else:\n",
    "        save_name = os.path.join(testfolder,'negative',nfiles[nrand[i]])\n",
    "        \n",
    "    im.save(save_name)\n",
    "    print('image: '+str(i)+'/'+str(len(nfiles)))\n",
    "    '''"
   ]
  },
  {
   "cell_type": "code",
   "execution_count": 2,
   "metadata": {},
   "outputs": [
    {
     "name": "stdout",
     "output_type": "stream",
     "text": [
      "^C\n"
     ]
    }
   ],
   "source": [
    "!pip install pandas"
   ]
  },
  {
   "cell_type": "code",
   "execution_count": null,
   "metadata": {},
   "outputs": [],
   "source": []
  }
 ],
 "metadata": {
  "kernelspec": {
   "display_name": "Python 3",
   "language": "python",
   "name": "python3"
  },
  "language_info": {
   "codemirror_mode": {
    "name": "ipython",
    "version": 3
   },
   "file_extension": ".py",
   "mimetype": "text/x-python",
   "name": "python",
   "nbconvert_exporter": "python",
   "pygments_lexer": "ipython3",
   "version": "3.7.7"
  }
 },
 "nbformat": 4,
 "nbformat_minor": 4
}
